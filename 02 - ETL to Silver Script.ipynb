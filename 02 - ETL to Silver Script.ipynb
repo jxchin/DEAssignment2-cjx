{
 "cells": [
  {
   "cell_type": "code",
   "execution_count": 13,
   "id": "e5f6403a",
   "metadata": {},
   "outputs": [],
   "source": [
    "import os, errno\n",
    "import csv\n",
    "import json\n",
    "import time\n",
    "import datetime\n",
    "\n",
    "from pathlib import Path\n",
    "from datetime import date\n",
    "from dateutil.relativedelta import relativedelta"
   ]
  },
  {
   "cell_type": "code",
   "execution_count": 14,
   "id": "9c4fadd6",
   "metadata": {},
   "outputs": [],
   "source": [
    "# VARIABLES\n",
    "path_to_bronze = 'Datalake/bronze/'\n",
    "path_to_silver = 'Datalake/silver/'\n",
    "gh_data_staging = 'gh-stg.csv'"
   ]
  },
  {
   "cell_type": "code",
   "execution_count": 15,
   "id": "f00a1c4d",
   "metadata": {},
   "outputs": [
    {
     "name": "stdout",
     "output_type": "stream",
     "text": [
      "Staging file not detected.\n"
     ]
    }
   ],
   "source": [
    "# Delete existing staging file before proceeding\n",
    "try:\n",
    "    os.remove(path_to_silver+gh_data_staging)\n",
    "    print('Staging file detected. Removing...')\n",
    "except OSError as e:\n",
    "    if e.errno != errno.ENOENT: # Skip file not found error\n",
    "        raise\n",
    "    print('Staging file not detected.')"
   ]
  },
  {
   "cell_type": "code",
   "execution_count": 16,
   "id": "0079c67f",
   "metadata": {},
   "outputs": [
    {
     "name": "stdout",
     "output_type": "stream",
     "text": [
      "Processing file: gh-data-1.json\n",
      "Processing file: gh-data-10.json\n",
      "Processing file: gh-data-11.json\n",
      "Processing file: gh-data-12.json\n",
      "Processing file: gh-data-13.json\n",
      "Processing file: gh-data-14.json\n",
      "Processing file: gh-data-15.json\n",
      "Processing file: gh-data-16.json\n",
      "Processing file: gh-data-17.json\n",
      "Processing file: gh-data-18.json\n",
      "Processing file: gh-data-19.json\n",
      "Processing file: gh-data-2.json\n",
      "Processing file: gh-data-20.json\n",
      "Processing file: gh-data-21.json\n",
      "Processing file: gh-data-22.json\n",
      "Processing file: gh-data-23.json\n",
      "Processing file: gh-data-24.json\n",
      "Processing file: gh-data-3.json\n",
      "Processing file: gh-data-4.json\n",
      "Processing file: gh-data-5.json\n",
      "Processing file: gh-data-6.json\n",
      "Processing file: gh-data-7.json\n",
      "Processing file: gh-data-8.json\n",
      "Processing file: gh-data-9.json\n",
      "2375 commits collected.\n"
     ]
    }
   ],
   "source": [
    "# Loop each json file and retrive the following data items, sha|url|message|name|email|date|login|id\n",
    "try:\n",
    "    commit_list = []\n",
    "    # Iterate each raw file in bronze\n",
    "    for file in os.listdir(path_to_bronze):\n",
    "        with open(path_to_bronze+file) as json_file:\n",
    "            print('Processing file: '+file)\n",
    "            # Deserialize to a list\n",
    "            commits = json.load(json_file)\n",
    "            # Loop 100 entries\n",
    "            for commit in commits:\n",
    "                # Extract data items into a dictionary\n",
    "                commitDict = {\n",
    "                    \"sha\":commit['sha'],\n",
    "                    \"url\":commit['url'],\n",
    "                    \"message\":commit['commit']['message'],\n",
    "                    \"name\":commit['commit']['author']['name'],\n",
    "                    \"email\":commit['commit']['author']['email'],\n",
    "                    \"date\":commit['commit']['author']['date'],\n",
    "                }\n",
    "\n",
    "                commit_list.append(commitDict)\n",
    "\n",
    "    commit_count = str(len(commit_list))\n",
    "    print(commit_count+' commits collected.')\n",
    "except:\n",
    "    print('Something went wrong when processing raw files.')\n"
   ]
  },
  {
   "cell_type": "code",
   "execution_count": 19,
   "id": "1a5b7e6c",
   "metadata": {},
   "outputs": [
    {
     "name": "stdout",
     "output_type": "stream",
     "text": [
      "Successfully wrote to file: Datalake/silver/gh-stg.csv\n"
     ]
    }
   ],
   "source": [
    "# Write the consolidated dataset into a csv file in Silver layer\n",
    "try:\n",
    "    with open(path_to_silver+gh_data_staging, 'w', encoding=\"utf-8\") as f:\n",
    "        headers = ['sha','url','message','name','email','date']\n",
    "        w = csv.DictWriter(f, fieldnames=headers, quoting=csv.QUOTE_ALL)\n",
    "        w.writeheader()\n",
    "        w.writerows(commit_list)\n",
    "    print('Successfully wrote to file: '+path_to_silver+gh_data_staging)\n",
    "except:\n",
    "    print('Failed writing to file: '+path_to_silver+gh_data_staging)"
   ]
  },
  {
   "cell_type": "code",
   "execution_count": 64,
   "id": "8e6bf297",
   "metadata": {},
   "outputs": [
    {
     "name": "stdout",
     "output_type": "stream",
     "text": [
      "{'sha': '54ac9234a8154325b13202e558c5fd8798319c7a', 'url': 'https://api.github.com/repos/apache/airflow/commits/54ac9234a8154325b13202e558c5fd8798319c7a', 'message': '📝 Update release documentation (#31631)', 'name': 'GitHub', 'email': 'noreply@github.com', 'date': '2023-05-31T18:58:14Z', 'login': 'web-flow', 'id': 19864447}\n"
     ]
    }
   ],
   "source": [
    "print(commit_list[1466])"
   ]
  },
  {
   "cell_type": "code",
   "execution_count": null,
   "id": "2bfb1aa3",
   "metadata": {},
   "outputs": [],
   "source": []
  }
 ],
 "metadata": {
  "kernelspec": {
   "display_name": "Python 3 (ipykernel)",
   "language": "python",
   "name": "python3"
  },
  "language_info": {
   "codemirror_mode": {
    "name": "ipython",
    "version": 3
   },
   "file_extension": ".py",
   "mimetype": "text/x-python",
   "name": "python",
   "nbconvert_exporter": "python",
   "pygments_lexer": "ipython3",
   "version": "3.10.9"
  }
 },
 "nbformat": 4,
 "nbformat_minor": 5
}
