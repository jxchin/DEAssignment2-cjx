{
 "cells": [
  {
   "cell_type": "code",
   "execution_count": 6,
   "id": "82146b06",
   "metadata": {},
   "outputs": [],
   "source": [
    "import requests\n",
    "import json\n",
    "import time\n",
    "import datetime\n",
    "\n",
    "from datetime import date\n",
    "from dateutil.relativedelta import relativedelta"
   ]
  },
  {
   "cell_type": "code",
   "execution_count": 7,
   "id": "a81f6f1a",
   "metadata": {},
   "outputs": [],
   "source": [
    "# VARIABLES\n",
    "duration = date.today() + relativedelta(months=-6)\n",
    "page = 0"
   ]
  },
  {
   "cell_type": "code",
   "execution_count": 8,
   "id": "e14103bb",
   "metadata": {},
   "outputs": [
    {
     "name": "stdout",
     "output_type": "stream",
     "text": [
      "Data collection started.\n",
      "Writing page 1 data file.\n",
      "Writing page 2 data file.\n",
      "Writing page 3 data file.\n",
      "Writing page 4 data file.\n",
      "Writing page 5 data file.\n",
      "Writing page 6 data file.\n",
      "Writing page 7 data file.\n",
      "Writing page 8 data file.\n",
      "Writing page 9 data file.\n",
      "Writing page 10 data file.\n",
      "Writing page 11 data file.\n",
      "Writing page 12 data file.\n",
      "Writing page 13 data file.\n",
      "Writing page 14 data file.\n",
      "Writing page 15 data file.\n",
      "Writing page 16 data file.\n",
      "Writing page 17 data file.\n",
      "Writing page 18 data file.\n",
      "Writing page 19 data file.\n",
      "Writing page 20 data file.\n",
      "Writing page 21 data file.\n",
      "Writing page 22 data file.\n",
      "Writing page 23 data file.\n",
      "Writing page 24 data file.\n",
      "Data collection completed.\n"
     ]
    }
   ],
   "source": [
    "# Extract 6 months of commits to github.com/apache/airflow\n",
    "print('Data collection started.')\n",
    "while True:\n",
    "    page += 1\n",
    "    datafile = \"Datalake/bronze/gh-data-\"+str(page)+\".json\"\n",
    "    url = \"https://api.github.com/repos/apache/airflow/commits\"\n",
    "\n",
    "    query_params = {\n",
    "        \"since\":duration, # Show results that were last updated after given date.\n",
    "        \"per_page\":100,   # Returns 30 records per page by default. max:100\n",
    "        \"page\":page       # Set page number of the results to fetch\n",
    "    }\n",
    "    \n",
    "    resp = requests.get(url, query_params)\n",
    "    \n",
    "    resp_headers = resp.headers\n",
    "    \n",
    "    if(resp_headers['X-RateLimit-Remaining'] == '0'):\n",
    "        # wait for ratelimit reset\n",
    "        wait = int(resp_headers['X-RateLimit-Reset']) - int(time.time())\n",
    "        print('Reached API Rate Limit. Resume in '+str(wait)+' seconds.')\n",
    "        time.sleep(wait)\n",
    "    \n",
    "    if(len(resp.json()) == 0): \n",
    "        #end while loop\n",
    "        print('Data collection completed.')\n",
    "        break\n",
    "        \n",
    "    else:    \n",
    "        #write api response to file for etl later\n",
    "        with open (datafile, 'w', encoding=\"utf-8\") as f:\n",
    "            json.dump(resp.json(), f)\n",
    "        print('Writing page '+str(page)+' data file.')"
   ]
  },
  {
   "cell_type": "code",
   "execution_count": null,
   "id": "c216ed45",
   "metadata": {},
   "outputs": [],
   "source": []
  }
 ],
 "metadata": {
  "kernelspec": {
   "display_name": "Python 3 (ipykernel)",
   "language": "python",
   "name": "python3"
  },
  "language_info": {
   "codemirror_mode": {
    "name": "ipython",
    "version": 3
   },
   "file_extension": ".py",
   "mimetype": "text/x-python",
   "name": "python",
   "nbconvert_exporter": "python",
   "pygments_lexer": "ipython3",
   "version": "3.10.9"
  }
 },
 "nbformat": 4,
 "nbformat_minor": 5
}
